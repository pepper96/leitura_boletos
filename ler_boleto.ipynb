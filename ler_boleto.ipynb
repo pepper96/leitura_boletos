{
 "cells": [
  {
   "cell_type": "markdown",
   "metadata": {},
   "source": [
    "### Extraindo dados de boletos salvos em uma pasta"
   ]
  },
  {
   "cell_type": "markdown",
   "metadata": {},
   "source": [
    "Este notebook realiza a leitura de boletos de pagamentos salvos em uma pasta e a extração de dados necessários para uma análise. \n",
    "Além disso, salva os dados extraídos em um dataset no qual serão imputados os dados dos novos boletos que forem salvos nessa respectiva pasta"
   ]
  },
  {
   "cell_type": "code",
   "execution_count": 2,
   "metadata": {},
   "outputs": [],
   "source": [
    "#importando as bibliotecas necessárias\n",
    "import pandas as pd\n",
    "import glob\n",
    "import fitz\n",
    "\n",
    "#listando todos os boletos localizados na pasta\n",
    "pasta = 'boleto'\n",
    "caminho_boleto = glob.glob(f\"{pasta}/*.pdf\")\n",
    "\n",
    "boletos_lidos=0\n",
    "\n",
    "#lendo cada boleto salvo na pasta\n",
    "for boleto in caminho_boleto:\n",
    "    with fitz.open(boleto) as doc:\n",
    "        num_pages = doc.page_count\n",
    "        for page_number in range(num_pages):\n",
    "            page = doc.load_page(page_number)\n",
    "            text = page.get_text()\n",
    "            parts = text.split(\"\\\\\")\n",
    "            elements=[]\n",
    "\n",
    "            for i,part in enumerate(parts):\n",
    "                elements.append(part)\n",
    "\n",
    "                if i <len(parts)-1:\n",
    "                    elements[-1]+=\"\\\\\"\n",
    "        \n",
    "        boletos_lidos+=1\n",
    "\n",
    "    sequencia_inicial = elements[0]\n",
    "    lista_palavras = sequencia_inicial.split()\n",
    "\n",
    "\n",
    "    df=pd.DataFrame({'Campo':lista_palavras})\n",
    "    df.index.name = 'Posição'\n",
    "\n",
    "    #extraindo as informações necessárias\n",
    "    banco=lista_palavras[1]\n",
    "    numero = lista_palavras[36]\n",
    "    cnpj=lista_palavras[25]\n",
    "    data = lista_palavras[32]\n",
    "    codigo_barra=lista_palavras[294]+lista_palavras[295]+lista_palavras[296]+lista_palavras[297]+lista_palavras[298]\n",
    "    valor = lista_palavras[353]\n",
    "    vencimento = lista_palavras[300]\n",
    "    cod_pagador=lista_palavras[416]\n",
    "    \n",
    "    insert_list = [banco,numero,cnpj,data,codigo_barra,valor,vencimento,cod_pagador]\n",
    "    base_carga = pd.DataFrame(columns=['cod_banco','cod_boleto','cnpj','data','cod_barra','valor','vencimento','cpf'])\n",
    "\n",
    "    #inserindo as informações de cada boleto para carregar na base\n",
    "    for i,coluna in enumerate(base_carga.columns):\n",
    "        base_carga.at[0,coluna]=insert_list[i]\n",
    "\n",
    "    #atualizando base \n",
    "    base_hist = pd.read_csv('hist/base.csv',sep=';',header=0)\n",
    "\n",
    "    base_atualiza = pd.concat([base_hist,base_carga],ignore_index=True)\n",
    "    base_atualiza.drop_duplicates().to_csv('hist/base.csv',index=False,sep=';')\n",
    "    "
   ]
  }
 ],
 "metadata": {
  "kernelspec": {
   "display_name": ".venv",
   "language": "python",
   "name": "python3"
  },
  "language_info": {
   "codemirror_mode": {
    "name": "ipython",
    "version": 3
   },
   "file_extension": ".py",
   "mimetype": "text/x-python",
   "name": "python",
   "nbconvert_exporter": "python",
   "pygments_lexer": "ipython3",
   "version": "3.10.9"
  },
  "orig_nbformat": 4
 },
 "nbformat": 4,
 "nbformat_minor": 2
}
